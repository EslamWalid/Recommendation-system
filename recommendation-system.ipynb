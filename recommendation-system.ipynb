{
 "cells": [
  {
   "cell_type": "code",
   "execution_count": 1,
   "id": "f4c93d06",
   "metadata": {
    "execution": {
     "iopub.execute_input": "2024-10-11T12:35:32.079795Z",
     "iopub.status.busy": "2024-10-11T12:35:32.079431Z",
     "iopub.status.idle": "2024-10-11T12:35:47.679174Z",
     "shell.execute_reply": "2024-10-11T12:35:47.678173Z"
    },
    "papermill": {
     "duration": 15.612286,
     "end_time": "2024-10-11T12:35:47.681494",
     "exception": false,
     "start_time": "2024-10-11T12:35:32.069208",
     "status": "completed"
    },
    "tags": []
   },
   "outputs": [
    {
     "data": {
      "text/html": [
       "<div>\n",
       "<style scoped>\n",
       "    .dataframe tbody tr th:only-of-type {\n",
       "        vertical-align: middle;\n",
       "    }\n",
       "\n",
       "    .dataframe tbody tr th {\n",
       "        vertical-align: top;\n",
       "    }\n",
       "\n",
       "    .dataframe thead th {\n",
       "        text-align: right;\n",
       "    }\n",
       "</style>\n",
       "<table border=\"1\" class=\"dataframe\">\n",
       "  <thead>\n",
       "    <tr style=\"text-align: right;\">\n",
       "      <th></th>\n",
       "      <th>name</th>\n",
       "      <th>main_category</th>\n",
       "      <th>sub_category</th>\n",
       "      <th>image</th>\n",
       "      <th>link</th>\n",
       "      <th>ratings</th>\n",
       "      <th>no_of_ratings</th>\n",
       "      <th>discount_price</th>\n",
       "      <th>actual_price</th>\n",
       "      <th>Unnamed: 0</th>\n",
       "    </tr>\n",
       "  </thead>\n",
       "  <tbody>\n",
       "    <tr>\n",
       "      <th>0</th>\n",
       "      <td>Cave Maruti Suzuki Male-Female Stereo Coupler ...</td>\n",
       "      <td>car &amp; motorbike</td>\n",
       "      <td>Car Electronics</td>\n",
       "      <td>https://m.media-amazon.com/images/I/31npb8UF2y...</td>\n",
       "      <td>https://www.amazon.in/Maruti-Suzuki-Stereo-Cou...</td>\n",
       "      <td>4.1</td>\n",
       "      <td>7</td>\n",
       "      <td>₹582</td>\n",
       "      <td>₹873</td>\n",
       "      <td>NaN</td>\n",
       "    </tr>\n",
       "    <tr>\n",
       "      <th>1</th>\n",
       "      <td>Die Hard Dual Purpose 360-Degree Rotating Mobi...</td>\n",
       "      <td>car &amp; motorbike</td>\n",
       "      <td>Car Electronics</td>\n",
       "      <td>https://m.media-amazon.com/images/I/61lS3DsWxU...</td>\n",
       "      <td>https://www.amazon.in/Die-Hard-360-Degree-Wind...</td>\n",
       "      <td>5.0</td>\n",
       "      <td>2</td>\n",
       "      <td>₹335</td>\n",
       "      <td>₹1,299</td>\n",
       "      <td>NaN</td>\n",
       "    </tr>\n",
       "    <tr>\n",
       "      <th>2</th>\n",
       "      <td>WEON® Tiny Subwoofer Preamp kit with Volume Co...</td>\n",
       "      <td>car &amp; motorbike</td>\n",
       "      <td>Car Electronics</td>\n",
       "      <td>https://m.media-amazon.com/images/I/71xLX6DuYK...</td>\n",
       "      <td>https://www.amazon.in/Subwoofer-Preamp-Control...</td>\n",
       "      <td>3.1</td>\n",
       "      <td>4</td>\n",
       "      <td>₹313</td>\n",
       "      <td>₹396</td>\n",
       "      <td>NaN</td>\n",
       "    </tr>\n",
       "    <tr>\n",
       "      <th>3</th>\n",
       "      <td>jiaruixin 6 Volt Kids Ride On Car Charger, 6V ...</td>\n",
       "      <td>car &amp; motorbike</td>\n",
       "      <td>Car Electronics</td>\n",
       "      <td>https://m.media-amazon.com/images/I/61CoaaZnhs...</td>\n",
       "      <td>https://www.amazon.in/Universal-Mercedes-Benz-...</td>\n",
       "      <td>4.2</td>\n",
       "      <td>131</td>\n",
       "      <td>₹593</td>\n",
       "      <td>₹999</td>\n",
       "      <td>NaN</td>\n",
       "    </tr>\n",
       "    <tr>\n",
       "      <th>4</th>\n",
       "      <td>Ceuta Retails Motorcycle Phone Holder with USB...</td>\n",
       "      <td>car &amp; motorbike</td>\n",
       "      <td>Car Electronics</td>\n",
       "      <td>https://m.media-amazon.com/images/I/41p7LZlyhN...</td>\n",
       "      <td>https://www.amazon.in/Ceuta-Retails-Degree-Rot...</td>\n",
       "      <td>3.1</td>\n",
       "      <td>389</td>\n",
       "      <td>₹440</td>\n",
       "      <td>₹1,599</td>\n",
       "      <td>NaN</td>\n",
       "    </tr>\n",
       "  </tbody>\n",
       "</table>\n",
       "</div>"
      ],
      "text/plain": [
       "                                                name    main_category  \\\n",
       "0  Cave Maruti Suzuki Male-Female Stereo Coupler ...  car & motorbike   \n",
       "1  Die Hard Dual Purpose 360-Degree Rotating Mobi...  car & motorbike   \n",
       "2  WEON® Tiny Subwoofer Preamp kit with Volume Co...  car & motorbike   \n",
       "3  jiaruixin 6 Volt Kids Ride On Car Charger, 6V ...  car & motorbike   \n",
       "4  Ceuta Retails Motorcycle Phone Holder with USB...  car & motorbike   \n",
       "\n",
       "      sub_category                                              image  \\\n",
       "0  Car Electronics  https://m.media-amazon.com/images/I/31npb8UF2y...   \n",
       "1  Car Electronics  https://m.media-amazon.com/images/I/61lS3DsWxU...   \n",
       "2  Car Electronics  https://m.media-amazon.com/images/I/71xLX6DuYK...   \n",
       "3  Car Electronics  https://m.media-amazon.com/images/I/61CoaaZnhs...   \n",
       "4  Car Electronics  https://m.media-amazon.com/images/I/41p7LZlyhN...   \n",
       "\n",
       "                                                link ratings no_of_ratings  \\\n",
       "0  https://www.amazon.in/Maruti-Suzuki-Stereo-Cou...     4.1             7   \n",
       "1  https://www.amazon.in/Die-Hard-360-Degree-Wind...     5.0             2   \n",
       "2  https://www.amazon.in/Subwoofer-Preamp-Control...     3.1             4   \n",
       "3  https://www.amazon.in/Universal-Mercedes-Benz-...     4.2           131   \n",
       "4  https://www.amazon.in/Ceuta-Retails-Degree-Rot...     3.1           389   \n",
       "\n",
       "  discount_price actual_price  Unnamed: 0  \n",
       "0           ₹582         ₹873         NaN  \n",
       "1           ₹335       ₹1,299         NaN  \n",
       "2           ₹313         ₹396         NaN  \n",
       "3           ₹593         ₹999         NaN  \n",
       "4           ₹440       ₹1,599         NaN  "
      ]
     },
     "execution_count": 1,
     "metadata": {},
     "output_type": "execute_result"
    }
   ],
   "source": [
    "import os\n",
    "import pandas as pd\n",
    "\n",
    "# Folder path\n",
    "folder_path = '/kaggle/input/amazon-products-dataset'\n",
    "\n",
    "# List to hold all dataframes\n",
    "dfs = []\n",
    "\n",
    "# Loop through all files in the folder\n",
    "for filename in os.listdir(folder_path):\n",
    "    if filename.endswith('.csv'):\n",
    "        file_path = os.path.join(folder_path, filename)\n",
    "        df = pd.read_csv(file_path)\n",
    "        df = df.dropna()  # Drop rows with any NaN values\n",
    "        dfs.append(df)\n",
    "\n",
    "# Merge all dataframes using 'outer' join\n",
    "merged_df = pd.concat(dfs, axis=0, join='outer')\n",
    "\n",
    "# Reset index if necessary\n",
    "merged_df.reset_index(drop=True, inplace=True)\n",
    "\n",
    "# Display or save the merged dataframe\n",
    "merged_df.head()\n"
   ]
  },
  {
   "cell_type": "code",
   "execution_count": 2,
   "id": "df508125",
   "metadata": {
    "execution": {
     "iopub.execute_input": "2024-10-11T12:35:47.701525Z",
     "iopub.status.busy": "2024-10-11T12:35:47.701170Z",
     "iopub.status.idle": "2024-10-11T12:35:47.706984Z",
     "shell.execute_reply": "2024-10-11T12:35:47.706099Z"
    },
    "papermill": {
     "duration": 0.017534,
     "end_time": "2024-10-11T12:35:47.708811",
     "exception": false,
     "start_time": "2024-10-11T12:35:47.691277",
     "status": "completed"
    },
    "tags": []
   },
   "outputs": [
    {
     "data": {
      "text/plain": [
       "(681360, 10)"
      ]
     },
     "execution_count": 2,
     "metadata": {},
     "output_type": "execute_result"
    }
   ],
   "source": [
    "merged_df.shape"
   ]
  },
  {
   "cell_type": "code",
   "execution_count": 3,
   "id": "a5415361",
   "metadata": {
    "execution": {
     "iopub.execute_input": "2024-10-11T12:35:47.728059Z",
     "iopub.status.busy": "2024-10-11T12:35:47.727581Z",
     "iopub.status.idle": "2024-10-11T12:35:47.827531Z",
     "shell.execute_reply": "2024-10-11T12:35:47.826536Z"
    },
    "papermill": {
     "duration": 0.111524,
     "end_time": "2024-10-11T12:35:47.829885",
     "exception": false,
     "start_time": "2024-10-11T12:35:47.718361",
     "status": "completed"
    },
    "tags": []
   },
   "outputs": [],
   "source": [
    "merged_df.drop('Unnamed: 0',axis=1,inplace=True)"
   ]
  },
  {
   "cell_type": "code",
   "execution_count": 4,
   "id": "37b852a8",
   "metadata": {
    "execution": {
     "iopub.execute_input": "2024-10-11T12:35:47.849048Z",
     "iopub.status.busy": "2024-10-11T12:35:47.848729Z",
     "iopub.status.idle": "2024-10-11T12:35:47.913957Z",
     "shell.execute_reply": "2024-10-11T12:35:47.913058Z"
    },
    "papermill": {
     "duration": 0.076635,
     "end_time": "2024-10-11T12:35:47.915940",
     "exception": false,
     "start_time": "2024-10-11T12:35:47.839305",
     "status": "completed"
    },
    "tags": []
   },
   "outputs": [
    {
     "data": {
      "text/plain": [
       "array(['Car Electronics', 'Janitorial & Sanitation Supplies',\n",
       "       'All Electronics', 'Make-up', 'Travel Accessories',\n",
       "       'Car & Bike Care', 'Sunglasses', 'Bags & Luggage', 'Yoga',\n",
       "       'Sportswear', 'Home Storage', 'Toys Gifting Store',\n",
       "       'Air Conditioners', 'All Appliances',\n",
       "       'All Car & Motorbike Products', 'All Exercise & Fitness',\n",
       "       'All Grocery & Gourmet Foods', 'All Home & Kitchen',\n",
       "       'All Pet Supplies', 'All Sports, Fitness & Outdoors',\n",
       "       'Amazon Fashion', 'Baby Bath, Skin & Grooming', 'Baby Fashion',\n",
       "       'Baby Products', 'Backpacks', 'Badminton', 'Ballerinas',\n",
       "       'Beauty & Grooming', 'Bedroom Linen', 'Camera Accessories',\n",
       "       'Cameras', 'Camping & Hiking', 'Car Accessories', 'Car Parts',\n",
       "       'Cardio Equipment', 'Casual Shoes', 'Clothing',\n",
       "       'Coffee, Tea & Beverages', 'Cricket', 'Cycling', 'Diapers',\n",
       "       'Diet & Nutrition', 'Dog supplies', 'Ethnic Wear',\n",
       "       'Fashion & Silver Jewellery', 'Fashion Sales & Deals',\n",
       "       'Fashion Sandals', 'Fitness Accessories', 'Football',\n",
       "       'Formal Shoes', 'Furniture', 'Garden & Outdoors',\n",
       "       'Gold & Diamond Jewellery', 'Handbags & Clutches', 'Headphones',\n",
       "       'Health & Personal Care', 'Heating & Cooling Appliances',\n",
       "       'Home Audio & Theater', 'Home Décor', 'Home Entertainment Systems',\n",
       "       'Home Furnishing', 'Home Improvement', 'Household Supplies',\n",
       "       'Indoor Lighting', 'Industrial & Scientific Supplies', 'Innerwear',\n",
       "       'International Toy Store', 'Jeans', 'Jewellery', \"Kids' Clothing\",\n",
       "       \"Kids' Fashion\", \"Kids' Shoes\", \"Kids' Watches\",\n",
       "       'Kitchen & Dining', 'Kitchen & Home Appliances',\n",
       "       'Kitchen Storage & Containers', 'Lab & Scientific',\n",
       "       'Lingerie & Nightwear', 'Luxury Beauty', \"Men's Fashion\",\n",
       "       'Motorbike Accessories & Parts',\n",
       "       'Musical Instruments & Professional Audio', 'Nursing & Feeding',\n",
       "       'Personal Care Appliances', 'Refrigerators',\n",
       "       'Refurbished & Open Box', 'Rucksacks', 'Running', 'School Bags',\n",
       "       'Security Cameras', 'Sewing & Craft Supplies', 'Shirts', 'Shoes',\n",
       "       'Snack Foods', 'Speakers', 'Sports Shoes', 'STEM Toys Store',\n",
       "       'Strength Training', 'Strollers & Prams',\n",
       "       'Suitcases & Trolley Bags', 'T-shirts & Polos', 'Televisions',\n",
       "       'Test, Measure & Inspect', 'The Designer Boutique', 'Toys & Games',\n",
       "       'Travel Duffles', 'Value Bazaar', 'Wallets', 'Washing Machines',\n",
       "       'Watches', 'Western Wear', \"Women's Fashion\"], dtype=object)"
      ]
     },
     "execution_count": 4,
     "metadata": {},
     "output_type": "execute_result"
    }
   ],
   "source": [
    "merged_df['sub_category'].unique()"
   ]
  },
  {
   "cell_type": "code",
   "execution_count": 5,
   "id": "c02dcf67",
   "metadata": {
    "execution": {
     "iopub.execute_input": "2024-10-11T12:35:47.934379Z",
     "iopub.status.busy": "2024-10-11T12:35:47.934019Z",
     "iopub.status.idle": "2024-10-11T12:35:47.995424Z",
     "shell.execute_reply": "2024-10-11T12:35:47.994506Z"
    },
    "papermill": {
     "duration": 0.07265,
     "end_time": "2024-10-11T12:35:47.997304",
     "exception": false,
     "start_time": "2024-10-11T12:35:47.924654",
     "status": "completed"
    },
    "tags": []
   },
   "outputs": [
    {
     "data": {
      "text/plain": [
       "array(['car & motorbike', 'industrial supplies', 'tv, audio & cameras',\n",
       "       'beauty & health', 'bags & luggage', 'accessories',\n",
       "       'sports & fitness', 'stores', 'home & kitchen',\n",
       "       'toys & baby products', 'appliances', 'grocery & gourmet foods',\n",
       "       'pet supplies', \"kids' fashion\", \"women's shoes\", \"men's shoes\",\n",
       "       \"women's clothing\", \"men's clothing\", 'music',\n",
       "       'home, kitchen, pets'], dtype=object)"
      ]
     },
     "execution_count": 5,
     "metadata": {},
     "output_type": "execute_result"
    }
   ],
   "source": [
    "merged_df['main_category'].unique()"
   ]
  },
  {
   "cell_type": "code",
   "execution_count": null,
   "id": "58306ac6",
   "metadata": {
    "papermill": {
     "duration": 0.008649,
     "end_time": "2024-10-11T12:35:48.015155",
     "exception": false,
     "start_time": "2024-10-11T12:35:48.006506",
     "status": "completed"
    },
    "tags": []
   },
   "outputs": [],
   "source": []
  },
  {
   "cell_type": "code",
   "execution_count": 6,
   "id": "035a81e0",
   "metadata": {
    "collapsed": true,
    "execution": {
     "iopub.execute_input": "2024-10-11T12:35:48.033636Z",
     "iopub.status.busy": "2024-10-11T12:35:48.033322Z",
     "iopub.status.idle": "2024-10-11T12:36:45.239744Z",
     "shell.execute_reply": "2024-10-11T12:36:45.238477Z"
    },
    "jupyter": {
     "outputs_hidden": true
    },
    "papermill": {
     "duration": 57.218592,
     "end_time": "2024-10-11T12:36:45.242366",
     "exception": false,
     "start_time": "2024-10-11T12:35:48.023774",
     "status": "completed"
    },
    "tags": []
   },
   "outputs": [
    {
     "name": "stdout",
     "output_type": "stream",
     "text": [
      "Collecting sentence_transformers\r\n",
      "  Downloading sentence_transformers-3.2.0-py3-none-any.whl.metadata (10 kB)\r\n",
      "Requirement already satisfied: transformers<5.0.0,>=4.41.0 in /opt/conda/lib/python3.10/site-packages (from sentence_transformers) (4.45.1)\r\n",
      "Requirement already satisfied: tqdm in /opt/conda/lib/python3.10/site-packages (from sentence_transformers) (4.66.4)\r\n",
      "Requirement already satisfied: torch>=1.11.0 in /opt/conda/lib/python3.10/site-packages (from sentence_transformers) (2.4.0)\r\n",
      "Requirement already satisfied: scikit-learn in /opt/conda/lib/python3.10/site-packages (from sentence_transformers) (1.2.2)\r\n",
      "Requirement already satisfied: scipy in /opt/conda/lib/python3.10/site-packages (from sentence_transformers) (1.14.1)\r\n",
      "Requirement already satisfied: huggingface-hub>=0.20.0 in /opt/conda/lib/python3.10/site-packages (from sentence_transformers) (0.25.1)\r\n",
      "Requirement already satisfied: Pillow in /opt/conda/lib/python3.10/site-packages (from sentence_transformers) (10.3.0)\r\n",
      "Requirement already satisfied: filelock in /opt/conda/lib/python3.10/site-packages (from huggingface-hub>=0.20.0->sentence_transformers) (3.15.1)\r\n",
      "Requirement already satisfied: fsspec>=2023.5.0 in /opt/conda/lib/python3.10/site-packages (from huggingface-hub>=0.20.0->sentence_transformers) (2024.6.1)\r\n",
      "Requirement already satisfied: packaging>=20.9 in /opt/conda/lib/python3.10/site-packages (from huggingface-hub>=0.20.0->sentence_transformers) (21.3)\r\n",
      "Requirement already satisfied: pyyaml>=5.1 in /opt/conda/lib/python3.10/site-packages (from huggingface-hub>=0.20.0->sentence_transformers) (6.0.2)\r\n",
      "Requirement already satisfied: requests in /opt/conda/lib/python3.10/site-packages (from huggingface-hub>=0.20.0->sentence_transformers) (2.32.3)\r\n",
      "Requirement already satisfied: typing-extensions>=3.7.4.3 in /opt/conda/lib/python3.10/site-packages (from huggingface-hub>=0.20.0->sentence_transformers) (4.12.2)\r\n",
      "Requirement already satisfied: sympy in /opt/conda/lib/python3.10/site-packages (from torch>=1.11.0->sentence_transformers) (1.13.3)\r\n",
      "Requirement already satisfied: networkx in /opt/conda/lib/python3.10/site-packages (from torch>=1.11.0->sentence_transformers) (3.3)\r\n",
      "Requirement already satisfied: jinja2 in /opt/conda/lib/python3.10/site-packages (from torch>=1.11.0->sentence_transformers) (3.1.4)\r\n",
      "Requirement already satisfied: numpy>=1.17 in /opt/conda/lib/python3.10/site-packages (from transformers<5.0.0,>=4.41.0->sentence_transformers) (1.26.4)\r\n",
      "Requirement already satisfied: regex!=2019.12.17 in /opt/conda/lib/python3.10/site-packages (from transformers<5.0.0,>=4.41.0->sentence_transformers) (2024.5.15)\r\n",
      "Requirement already satisfied: safetensors>=0.4.1 in /opt/conda/lib/python3.10/site-packages (from transformers<5.0.0,>=4.41.0->sentence_transformers) (0.4.5)\r\n",
      "Requirement already satisfied: tokenizers<0.21,>=0.20 in /opt/conda/lib/python3.10/site-packages (from transformers<5.0.0,>=4.41.0->sentence_transformers) (0.20.0)\r\n",
      "Requirement already satisfied: joblib>=1.1.1 in /opt/conda/lib/python3.10/site-packages (from scikit-learn->sentence_transformers) (1.4.2)\r\n",
      "Requirement already satisfied: threadpoolctl>=2.0.0 in /opt/conda/lib/python3.10/site-packages (from scikit-learn->sentence_transformers) (3.5.0)\r\n",
      "Requirement already satisfied: pyparsing!=3.0.5,>=2.0.2 in /opt/conda/lib/python3.10/site-packages (from packaging>=20.9->huggingface-hub>=0.20.0->sentence_transformers) (3.1.2)\r\n",
      "Requirement already satisfied: MarkupSafe>=2.0 in /opt/conda/lib/python3.10/site-packages (from jinja2->torch>=1.11.0->sentence_transformers) (2.1.5)\r\n",
      "Requirement already satisfied: charset-normalizer<4,>=2 in /opt/conda/lib/python3.10/site-packages (from requests->huggingface-hub>=0.20.0->sentence_transformers) (3.3.2)\r\n",
      "Requirement already satisfied: idna<4,>=2.5 in /opt/conda/lib/python3.10/site-packages (from requests->huggingface-hub>=0.20.0->sentence_transformers) (3.7)\r\n",
      "Requirement already satisfied: urllib3<3,>=1.21.1 in /opt/conda/lib/python3.10/site-packages (from requests->huggingface-hub>=0.20.0->sentence_transformers) (1.26.18)\r\n",
      "Requirement already satisfied: certifi>=2017.4.17 in /opt/conda/lib/python3.10/site-packages (from requests->huggingface-hub>=0.20.0->sentence_transformers) (2024.8.30)\r\n",
      "Requirement already satisfied: mpmath<1.4,>=1.1.0 in /opt/conda/lib/python3.10/site-packages (from sympy->torch>=1.11.0->sentence_transformers) (1.3.0)\r\n",
      "Downloading sentence_transformers-3.2.0-py3-none-any.whl (255 kB)\r\n",
      "\u001b[2K   \u001b[90m━━━━━━━━━━━━━━━━━━━━━━━━━━━━━━━━━━━━━━━━\u001b[0m \u001b[32m255.2/255.2 kB\u001b[0m \u001b[31m5.7 MB/s\u001b[0m eta \u001b[36m0:00:00\u001b[0m\r\n",
      "\u001b[?25hInstalling collected packages: sentence_transformers\r\n",
      "Successfully installed sentence_transformers-3.2.0\r\n",
      "Collecting hnswlib\r\n",
      "  Downloading hnswlib-0.8.0.tar.gz (36 kB)\r\n",
      "  Installing build dependencies ... \u001b[?25l-\b \b\\\b \b|\b \b/\b \b-\b \b\\\b \b|\b \b/\b \b-\b \bdone\r\n",
      "\u001b[?25h  Getting requirements to build wheel ... \u001b[?25l-\b \bdone\r\n",
      "\u001b[?25h  Preparing metadata (pyproject.toml) ... \u001b[?25l-\b \bdone\r\n",
      "\u001b[?25hRequirement already satisfied: numpy in /opt/conda/lib/python3.10/site-packages (from hnswlib) (1.26.4)\r\n",
      "Building wheels for collected packages: hnswlib\r\n",
      "  Building wheel for hnswlib (pyproject.toml) ... \u001b[?25l-\b \b\\\b \b|\b \b/\b \b-\b \b\\\b \b|\b \b/\b \b-\b \bdone\r\n",
      "\u001b[?25h  Created wheel for hnswlib: filename=hnswlib-0.8.0-cp310-cp310-linux_x86_64.whl size=205169 sha256=9df5c5749f5681b32182437e973dfdb0a59fc6013eb7531a96432aaaf741a562\r\n",
      "  Stored in directory: /root/.cache/pip/wheels/af/a9/3e/3e5d59ee41664eb31a4e6de67d1846f86d16d93c45f277c4e7\r\n",
      "Successfully built hnswlib\r\n",
      "Installing collected packages: hnswlib\r\n",
      "Successfully installed hnswlib-0.8.0\r\n"
     ]
    }
   ],
   "source": [
    "!pip install sentence_transformers\n",
    "!pip install hnswlib\n"
   ]
  },
  {
   "cell_type": "code",
   "execution_count": 7,
   "id": "8b5a35e6",
   "metadata": {
    "execution": {
     "iopub.execute_input": "2024-10-11T12:36:45.269212Z",
     "iopub.status.busy": "2024-10-11T12:36:45.268724Z",
     "iopub.status.idle": "2024-10-11T12:37:05.246508Z",
     "shell.execute_reply": "2024-10-11T12:37:05.245516Z"
    },
    "papermill": {
     "duration": 19.993922,
     "end_time": "2024-10-11T12:37:05.248985",
     "exception": false,
     "start_time": "2024-10-11T12:36:45.255063",
     "status": "completed"
    },
    "tags": []
   },
   "outputs": [
    {
     "name": "stderr",
     "output_type": "stream",
     "text": [
      "/opt/conda/lib/python3.10/site-packages/sentence_transformers/cross_encoder/CrossEncoder.py:13: TqdmExperimentalWarning: Using `tqdm.autonotebook.tqdm` in notebook mode. Use `tqdm.tqdm` instead to force console mode (e.g. in jupyter console)\n",
      "  from tqdm.autonotebook import tqdm, trange\n"
     ]
    }
   ],
   "source": [
    "import hnswlib\n",
    "import numpy as np\n",
    "from sentence_transformers import SentenceTransformer\n",
    "import numpy as np\n",
    "import pandas as pd\n",
    "import matplotlib.pyplot as plt"
   ]
  },
  {
   "cell_type": "code",
   "execution_count": 8,
   "id": "241e8af5",
   "metadata": {
    "execution": {
     "iopub.execute_input": "2024-10-11T12:37:05.275357Z",
     "iopub.status.busy": "2024-10-11T12:37:05.274720Z",
     "iopub.status.idle": "2024-10-11T12:37:05.278903Z",
     "shell.execute_reply": "2024-10-11T12:37:05.278059Z"
    },
    "papermill": {
     "duration": 0.019209,
     "end_time": "2024-10-11T12:37:05.280710",
     "exception": false,
     "start_time": "2024-10-11T12:37:05.261501",
     "status": "completed"
    },
    "tags": []
   },
   "outputs": [],
   "source": [
    "#df_car=pd.read_csv('/kaggle/input/amazon-products-dataset/All Car and Motorbike Products.csv')\n",
    "#df_ele=pd.read_csv('/kaggle/input/amazon-products-dataset/All Electronics.csv')\n",
    "#df_sport=pd.read_csv('/kaggle/input/amazon-products-dataset/All Sports Fitness and Outdoors.csv')"
   ]
  },
  {
   "cell_type": "code",
   "execution_count": 9,
   "id": "c71afd26",
   "metadata": {
    "execution": {
     "iopub.execute_input": "2024-10-11T12:37:05.306974Z",
     "iopub.status.busy": "2024-10-11T12:37:05.306641Z",
     "iopub.status.idle": "2024-10-11T12:37:05.310526Z",
     "shell.execute_reply": "2024-10-11T12:37:05.309674Z"
    },
    "papermill": {
     "duration": 0.019157,
     "end_time": "2024-10-11T12:37:05.312390",
     "exception": false,
     "start_time": "2024-10-11T12:37:05.293233",
     "status": "completed"
    },
    "tags": []
   },
   "outputs": [],
   "source": [
    "data=merged_df"
   ]
  },
  {
   "cell_type": "code",
   "execution_count": 10,
   "id": "f54d31f7",
   "metadata": {
    "execution": {
     "iopub.execute_input": "2024-10-11T12:37:05.337773Z",
     "iopub.status.busy": "2024-10-11T12:37:05.337487Z",
     "iopub.status.idle": "2024-10-11T12:37:05.351960Z",
     "shell.execute_reply": "2024-10-11T12:37:05.351061Z"
    },
    "papermill": {
     "duration": 0.029823,
     "end_time": "2024-10-11T12:37:05.354279",
     "exception": false,
     "start_time": "2024-10-11T12:37:05.324456",
     "status": "completed"
    },
    "tags": []
   },
   "outputs": [
    {
     "data": {
      "text/html": [
       "<div>\n",
       "<style scoped>\n",
       "    .dataframe tbody tr th:only-of-type {\n",
       "        vertical-align: middle;\n",
       "    }\n",
       "\n",
       "    .dataframe tbody tr th {\n",
       "        vertical-align: top;\n",
       "    }\n",
       "\n",
       "    .dataframe thead th {\n",
       "        text-align: right;\n",
       "    }\n",
       "</style>\n",
       "<table border=\"1\" class=\"dataframe\">\n",
       "  <thead>\n",
       "    <tr style=\"text-align: right;\">\n",
       "      <th></th>\n",
       "      <th>name</th>\n",
       "      <th>main_category</th>\n",
       "      <th>sub_category</th>\n",
       "      <th>image</th>\n",
       "      <th>link</th>\n",
       "      <th>ratings</th>\n",
       "      <th>no_of_ratings</th>\n",
       "      <th>discount_price</th>\n",
       "      <th>actual_price</th>\n",
       "    </tr>\n",
       "  </thead>\n",
       "  <tbody>\n",
       "    <tr>\n",
       "      <th>0</th>\n",
       "      <td>Cave Maruti Suzuki Male-Female Stereo Coupler ...</td>\n",
       "      <td>car &amp; motorbike</td>\n",
       "      <td>Car Electronics</td>\n",
       "      <td>https://m.media-amazon.com/images/I/31npb8UF2y...</td>\n",
       "      <td>https://www.amazon.in/Maruti-Suzuki-Stereo-Cou...</td>\n",
       "      <td>4.1</td>\n",
       "      <td>7</td>\n",
       "      <td>₹582</td>\n",
       "      <td>₹873</td>\n",
       "    </tr>\n",
       "    <tr>\n",
       "      <th>1</th>\n",
       "      <td>Die Hard Dual Purpose 360-Degree Rotating Mobi...</td>\n",
       "      <td>car &amp; motorbike</td>\n",
       "      <td>Car Electronics</td>\n",
       "      <td>https://m.media-amazon.com/images/I/61lS3DsWxU...</td>\n",
       "      <td>https://www.amazon.in/Die-Hard-360-Degree-Wind...</td>\n",
       "      <td>5.0</td>\n",
       "      <td>2</td>\n",
       "      <td>₹335</td>\n",
       "      <td>₹1,299</td>\n",
       "    </tr>\n",
       "    <tr>\n",
       "      <th>2</th>\n",
       "      <td>WEON® Tiny Subwoofer Preamp kit with Volume Co...</td>\n",
       "      <td>car &amp; motorbike</td>\n",
       "      <td>Car Electronics</td>\n",
       "      <td>https://m.media-amazon.com/images/I/71xLX6DuYK...</td>\n",
       "      <td>https://www.amazon.in/Subwoofer-Preamp-Control...</td>\n",
       "      <td>3.1</td>\n",
       "      <td>4</td>\n",
       "      <td>₹313</td>\n",
       "      <td>₹396</td>\n",
       "    </tr>\n",
       "    <tr>\n",
       "      <th>3</th>\n",
       "      <td>jiaruixin 6 Volt Kids Ride On Car Charger, 6V ...</td>\n",
       "      <td>car &amp; motorbike</td>\n",
       "      <td>Car Electronics</td>\n",
       "      <td>https://m.media-amazon.com/images/I/61CoaaZnhs...</td>\n",
       "      <td>https://www.amazon.in/Universal-Mercedes-Benz-...</td>\n",
       "      <td>4.2</td>\n",
       "      <td>131</td>\n",
       "      <td>₹593</td>\n",
       "      <td>₹999</td>\n",
       "    </tr>\n",
       "    <tr>\n",
       "      <th>4</th>\n",
       "      <td>Ceuta Retails Motorcycle Phone Holder with USB...</td>\n",
       "      <td>car &amp; motorbike</td>\n",
       "      <td>Car Electronics</td>\n",
       "      <td>https://m.media-amazon.com/images/I/41p7LZlyhN...</td>\n",
       "      <td>https://www.amazon.in/Ceuta-Retails-Degree-Rot...</td>\n",
       "      <td>3.1</td>\n",
       "      <td>389</td>\n",
       "      <td>₹440</td>\n",
       "      <td>₹1,599</td>\n",
       "    </tr>\n",
       "  </tbody>\n",
       "</table>\n",
       "</div>"
      ],
      "text/plain": [
       "                                                name    main_category  \\\n",
       "0  Cave Maruti Suzuki Male-Female Stereo Coupler ...  car & motorbike   \n",
       "1  Die Hard Dual Purpose 360-Degree Rotating Mobi...  car & motorbike   \n",
       "2  WEON® Tiny Subwoofer Preamp kit with Volume Co...  car & motorbike   \n",
       "3  jiaruixin 6 Volt Kids Ride On Car Charger, 6V ...  car & motorbike   \n",
       "4  Ceuta Retails Motorcycle Phone Holder with USB...  car & motorbike   \n",
       "\n",
       "      sub_category                                              image  \\\n",
       "0  Car Electronics  https://m.media-amazon.com/images/I/31npb8UF2y...   \n",
       "1  Car Electronics  https://m.media-amazon.com/images/I/61lS3DsWxU...   \n",
       "2  Car Electronics  https://m.media-amazon.com/images/I/71xLX6DuYK...   \n",
       "3  Car Electronics  https://m.media-amazon.com/images/I/61CoaaZnhs...   \n",
       "4  Car Electronics  https://m.media-amazon.com/images/I/41p7LZlyhN...   \n",
       "\n",
       "                                                link ratings no_of_ratings  \\\n",
       "0  https://www.amazon.in/Maruti-Suzuki-Stereo-Cou...     4.1             7   \n",
       "1  https://www.amazon.in/Die-Hard-360-Degree-Wind...     5.0             2   \n",
       "2  https://www.amazon.in/Subwoofer-Preamp-Control...     3.1             4   \n",
       "3  https://www.amazon.in/Universal-Mercedes-Benz-...     4.2           131   \n",
       "4  https://www.amazon.in/Ceuta-Retails-Degree-Rot...     3.1           389   \n",
       "\n",
       "  discount_price actual_price  \n",
       "0           ₹582         ₹873  \n",
       "1           ₹335       ₹1,299  \n",
       "2           ₹313         ₹396  \n",
       "3           ₹593         ₹999  \n",
       "4           ₹440       ₹1,599  "
      ]
     },
     "execution_count": 10,
     "metadata": {},
     "output_type": "execute_result"
    }
   ],
   "source": [
    "data.head()"
   ]
  },
  {
   "cell_type": "code",
   "execution_count": 11,
   "id": "e511bc3e",
   "metadata": {
    "execution": {
     "iopub.execute_input": "2024-10-11T12:37:05.383149Z",
     "iopub.status.busy": "2024-10-11T12:37:05.382842Z",
     "iopub.status.idle": "2024-10-11T12:37:05.445341Z",
     "shell.execute_reply": "2024-10-11T12:37:05.444441Z"
    },
    "papermill": {
     "duration": 0.079156,
     "end_time": "2024-10-11T12:37:05.447202",
     "exception": false,
     "start_time": "2024-10-11T12:37:05.368046",
     "status": "completed"
    },
    "tags": []
   },
   "outputs": [
    {
     "data": {
      "text/plain": [
       "array(['car & motorbike', 'industrial supplies', 'tv, audio & cameras',\n",
       "       'beauty & health', 'bags & luggage', 'accessories',\n",
       "       'sports & fitness', 'stores', 'home & kitchen',\n",
       "       'toys & baby products', 'appliances', 'grocery & gourmet foods',\n",
       "       'pet supplies', \"kids' fashion\", \"women's shoes\", \"men's shoes\",\n",
       "       \"women's clothing\", \"men's clothing\", 'music',\n",
       "       'home, kitchen, pets'], dtype=object)"
      ]
     },
     "execution_count": 11,
     "metadata": {},
     "output_type": "execute_result"
    }
   ],
   "source": [
    "data['main_category'].unique()"
   ]
  },
  {
   "cell_type": "code",
   "execution_count": 12,
   "id": "5e3166c9",
   "metadata": {
    "execution": {
     "iopub.execute_input": "2024-10-11T12:37:05.473960Z",
     "iopub.status.busy": "2024-10-11T12:37:05.473427Z",
     "iopub.status.idle": "2024-10-11T12:37:06.188868Z",
     "shell.execute_reply": "2024-10-11T12:37:06.187624Z"
    },
    "papermill": {
     "duration": 0.730768,
     "end_time": "2024-10-11T12:37:06.190520",
     "exception": true,
     "start_time": "2024-10-11T12:37:05.459752",
     "status": "failed"
    },
    "tags": []
   },
   "outputs": [
    {
     "ename": "NameError",
     "evalue": "name 'dim' is not defined",
     "output_type": "error",
     "traceback": [
      "\u001b[0;31m---------------------------------------------------------------------------\u001b[0m",
      "\u001b[0;31mNameError\u001b[0m                                 Traceback (most recent call last)",
      "Cell \u001b[0;32mIn[12], line 1\u001b[0m\n\u001b[0;32m----> 1\u001b[0m \u001b[43mdim\u001b[49m\n",
      "\u001b[0;31mNameError\u001b[0m: name 'dim' is not defined"
     ]
    }
   ],
   "source": [
    "dim"
   ]
  },
  {
   "cell_type": "markdown",
   "id": "51f690f6",
   "metadata": {
    "papermill": {
     "duration": null,
     "end_time": null,
     "exception": null,
     "start_time": null,
     "status": "pending"
    },
    "tags": []
   },
   "source": [
    "# model"
   ]
  },
  {
   "cell_type": "code",
   "execution_count": null,
   "id": "3db784e1",
   "metadata": {
    "collapsed": true,
    "execution": {
     "iopub.execute_input": "2024-10-10T04:58:11.292753Z",
     "iopub.status.busy": "2024-10-10T04:58:11.292295Z",
     "iopub.status.idle": "2024-10-10T05:02:12.469775Z",
     "shell.execute_reply": "2024-10-10T05:02:12.468908Z",
     "shell.execute_reply.started": "2024-10-10T04:58:11.292714Z"
    },
    "jupyter": {
     "outputs_hidden": true
    },
    "papermill": {
     "duration": null,
     "end_time": null,
     "exception": null,
     "start_time": null,
     "status": "pending"
    },
    "tags": []
   },
   "outputs": [],
   "source": [
    "# Step 1: Combine relevant textual features into a single feature for each product\n",
    "data['combined_features'] = data['name'] + ' ' + data['main_category'] +' '+data['sub_category']\n",
    "\n",
    "# Step 2: Generate embeddings using a pre-trained Sentence Transformer model\n",
    "model = SentenceTransformer('paraphrase-MiniLM-L6-v2')\n",
    "embeddings = model.encode(data['combined_features'].tolist())  # Convert text into embeddings\n",
    "\n",
    "# Step 3: Initialize HNSW index (if not already initialized)\n",
    "dim = embeddings.shape[1]  # Dimension of embeddings\n",
    "num_elements = len(embeddings)"
   ]
  },
  {
   "cell_type": "code",
   "execution_count": null,
   "id": "14b64bf5",
   "metadata": {
    "execution": {
     "iopub.execute_input": "2024-10-10T05:02:12.472202Z",
     "iopub.status.busy": "2024-10-10T05:02:12.471807Z",
     "iopub.status.idle": "2024-10-10T05:03:54.571752Z",
     "shell.execute_reply": "2024-10-10T05:03:54.570614Z",
     "shell.execute_reply.started": "2024-10-10T05:02:12.472157Z"
    },
    "papermill": {
     "duration": null,
     "end_time": null,
     "exception": null,
     "start_time": null,
     "status": "pending"
    },
    "tags": []
   },
   "outputs": [],
   "source": [
    "# Create an HNSW index\n",
    "hnsw_index = hnswlib.Index(space='l2', dim=dim)  # Using L2 (Euclidean) distance, or 'cosine' for cosine similarity\n",
    "hnsw_index.init_index(max_elements=num_elements, ef_construction=200, M=16)\n",
    "\n",
    "# Step 4: Add embeddings to the HNSW index (if not already done)\n",
    "hnsw_index.add_items(embeddings)"
   ]
  },
  {
   "cell_type": "code",
   "execution_count": null,
   "id": "06036bd5",
   "metadata": {
    "execution": {
     "iopub.execute_input": "2024-10-10T05:18:39.315404Z",
     "iopub.status.busy": "2024-10-10T05:18:39.314384Z",
     "iopub.status.idle": "2024-10-10T05:18:39.321645Z",
     "shell.execute_reply": "2024-10-10T05:18:39.320559Z",
     "shell.execute_reply.started": "2024-10-10T05:18:39.315361Z"
    },
    "papermill": {
     "duration": null,
     "end_time": null,
     "exception": null,
     "start_time": null,
     "status": "pending"
    },
    "tags": []
   },
   "outputs": [],
   "source": [
    "dim"
   ]
  },
  {
   "cell_type": "code",
   "execution_count": null,
   "id": "4dc28e9c",
   "metadata": {
    "execution": {
     "iopub.execute_input": "2024-10-10T05:03:58.168776Z",
     "iopub.status.busy": "2024-10-10T05:03:58.168006Z",
     "iopub.status.idle": "2024-10-10T05:03:58.174279Z",
     "shell.execute_reply": "2024-10-10T05:03:58.173344Z",
     "shell.execute_reply.started": "2024-10-10T05:03:58.168735Z"
    },
    "papermill": {
     "duration": null,
     "end_time": null,
     "exception": null,
     "start_time": null,
     "status": "pending"
    },
    "tags": []
   },
   "outputs": [],
   "source": [
    "def recommend_new_product_similarities(new_product_description, k=10):\n",
    "    # Generate embedding for the new product (not in the dataset)\n",
    "    new_product_embedding = model.encode([new_product_description])[0]  # Create embedding for the new product\n",
    "    \n",
    "    # Search for the k nearest neighbors using HNSW\n",
    "    labels, distances = hnsw_index.knn_query(new_product_embedding, k=k)  # Find top k similar products\n",
    "    \n",
    "    # Return the similar products from the dataset\n",
    "    similar_indices = labels.flatten()\n",
    "    return data.iloc[similar_indices]"
   ]
  },
  {
   "cell_type": "code",
   "execution_count": null,
   "id": "63e045bb",
   "metadata": {
    "execution": {
     "iopub.execute_input": "2024-10-10T05:10:28.268708Z",
     "iopub.status.busy": "2024-10-10T05:10:28.267807Z",
     "iopub.status.idle": "2024-10-10T05:10:28.309356Z",
     "shell.execute_reply": "2024-10-10T05:10:28.308477Z",
     "shell.execute_reply.started": "2024-10-10T05:10:28.268668Z"
    },
    "papermill": {
     "duration": null,
     "end_time": null,
     "exception": null,
     "start_time": null,
     "status": "pending"
    },
    "tags": []
   },
   "outputs": [],
   "source": [
    "new_product_desc = \"car door post\"\n",
    "recommendations = recommend_new_product_similarities(new_product_desc)\n",
    "recommendations"
   ]
  },
  {
   "cell_type": "code",
   "execution_count": null,
   "id": "dff097b5",
   "metadata": {
    "execution": {
     "iopub.execute_input": "2024-10-10T05:09:12.110406Z",
     "iopub.status.busy": "2024-10-10T05:09:12.109665Z",
     "iopub.status.idle": "2024-10-10T05:09:12.114453Z",
     "shell.execute_reply": "2024-10-10T05:09:12.113448Z",
     "shell.execute_reply.started": "2024-10-10T05:09:12.110365Z"
    },
    "papermill": {
     "duration": null,
     "end_time": null,
     "exception": null,
     "start_time": null,
     "status": "pending"
    },
    "tags": []
   },
   "outputs": [],
   "source": []
  },
  {
   "cell_type": "code",
   "execution_count": null,
   "id": "4dc370d5",
   "metadata": {
    "execution": {
     "iopub.execute_input": "2024-10-10T05:11:09.737289Z",
     "iopub.status.busy": "2024-10-10T05:11:09.736391Z",
     "iopub.status.idle": "2024-10-10T05:11:09.743452Z",
     "shell.execute_reply": "2024-10-10T05:11:09.742447Z",
     "shell.execute_reply.started": "2024-10-10T05:11:09.737251Z"
    },
    "papermill": {
     "duration": null,
     "end_time": null,
     "exception": null,
     "start_time": null,
     "status": "pending"
    },
    "tags": []
   },
   "outputs": [],
   "source": [
    "location=449384\n",
    "data['name'].iloc[location]"
   ]
  },
  {
   "cell_type": "code",
   "execution_count": null,
   "id": "ff07389d",
   "metadata": {
    "execution": {
     "iopub.execute_input": "2024-10-10T05:11:10.259834Z",
     "iopub.status.busy": "2024-10-10T05:11:10.258951Z",
     "iopub.status.idle": "2024-10-10T05:11:10.265792Z",
     "shell.execute_reply": "2024-10-10T05:11:10.264870Z",
     "shell.execute_reply.started": "2024-10-10T05:11:10.259795Z"
    },
    "papermill": {
     "duration": null,
     "end_time": null,
     "exception": null,
     "start_time": null,
     "status": "pending"
    },
    "tags": []
   },
   "outputs": [],
   "source": [
    "data['image'].iloc[location]"
   ]
  },
  {
   "cell_type": "markdown",
   "id": "73145e86",
   "metadata": {
    "papermill": {
     "duration": null,
     "end_time": null,
     "exception": null,
     "start_time": null,
     "status": "pending"
    },
    "tags": []
   },
   "source": [
    "# Save data as csv"
   ]
  },
  {
   "cell_type": "code",
   "execution_count": null,
   "id": "f5849155",
   "metadata": {
    "execution": {
     "iopub.execute_input": "2024-10-10T05:13:57.101875Z",
     "iopub.status.busy": "2024-10-10T05:13:57.101028Z",
     "iopub.status.idle": "2024-10-10T05:14:11.616175Z",
     "shell.execute_reply": "2024-10-10T05:14:11.615352Z",
     "shell.execute_reply.started": "2024-10-10T05:13:57.101833Z"
    },
    "papermill": {
     "duration": null,
     "end_time": null,
     "exception": null,
     "start_time": null,
     "status": "pending"
    },
    "tags": []
   },
   "outputs": [],
   "source": [
    "data.to_csv('merged_amazon_products.csv', index=False)"
   ]
  },
  {
   "cell_type": "markdown",
   "id": "b31869e5",
   "metadata": {
    "papermill": {
     "duration": null,
     "end_time": null,
     "exception": null,
     "start_time": null,
     "status": "pending"
    },
    "tags": []
   },
   "source": [
    "# save model files"
   ]
  },
  {
   "cell_type": "code",
   "execution_count": null,
   "id": "3242d90b",
   "metadata": {
    "execution": {
     "iopub.execute_input": "2024-10-10T05:15:57.470560Z",
     "iopub.status.busy": "2024-10-10T05:15:57.469751Z",
     "iopub.status.idle": "2024-10-10T05:15:58.354353Z",
     "shell.execute_reply": "2024-10-10T05:15:58.353128Z",
     "shell.execute_reply.started": "2024-10-10T05:15:57.470523Z"
    },
    "papermill": {
     "duration": null,
     "end_time": null,
     "exception": null,
     "start_time": null,
     "status": "pending"
    },
    "tags": []
   },
   "outputs": [],
   "source": [
    "# save hnsw\n",
    "hnsw_index.save_index('hnsw_index_file.hnsw')"
   ]
  },
  {
   "cell_type": "code",
   "execution_count": null,
   "id": "2074f280",
   "metadata": {
    "papermill": {
     "duration": null,
     "end_time": null,
     "exception": null,
     "start_time": null,
     "status": "pending"
    },
    "tags": []
   },
   "outputs": [],
   "source": [
    "#"
   ]
  },
  {
   "cell_type": "markdown",
   "id": "c7351436",
   "metadata": {
    "papermill": {
     "duration": null,
     "end_time": null,
     "exception": null,
     "start_time": null,
     "status": "pending"
    },
    "tags": []
   },
   "source": [
    "to load model\n",
    "# Create a new index object (with the same parameters as used for training)\n",
    "hnsw_index = hnswlib.Index(space='l2', dim=128)  # Example parameters: 'l2' for Euclidean, dimension=128\n",
    "\n",
    "# Load the saved index\n",
    "hnsw_index.load_index('hnsw_index_file.hnsw')"
   ]
  },
  {
   "cell_type": "code",
   "execution_count": null,
   "id": "3edd6acf",
   "metadata": {
    "execution": {
     "iopub.execute_input": "2024-10-10T05:25:44.203181Z",
     "iopub.status.busy": "2024-10-10T05:25:44.202474Z",
     "iopub.status.idle": "2024-10-10T05:25:44.207203Z",
     "shell.execute_reply": "2024-10-10T05:25:44.206314Z",
     "shell.execute_reply.started": "2024-10-10T05:25:44.203142Z"
    },
    "papermill": {
     "duration": null,
     "end_time": null,
     "exception": null,
     "start_time": null,
     "status": "pending"
    },
    "tags": []
   },
   "outputs": [],
   "source": [
    "import shutil"
   ]
  },
  {
   "cell_type": "code",
   "execution_count": null,
   "id": "11961bc3",
   "metadata": {
    "execution": {
     "iopub.execute_input": "2024-10-10T05:23:33.216444Z",
     "iopub.status.busy": "2024-10-10T05:23:33.215687Z",
     "iopub.status.idle": "2024-10-10T05:23:34.479321Z",
     "shell.execute_reply": "2024-10-10T05:23:34.478330Z",
     "shell.execute_reply.started": "2024-10-10T05:23:33.216390Z"
    },
    "papermill": {
     "duration": null,
     "end_time": null,
     "exception": null,
     "start_time": null,
     "status": "pending"
    },
    "tags": []
   },
   "outputs": [],
   "source": [
    "model.save('sentence_transformer_model')"
   ]
  },
  {
   "cell_type": "code",
   "execution_count": null,
   "id": "41e4d041",
   "metadata": {
    "execution": {
     "iopub.execute_input": "2024-10-10T05:25:46.959244Z",
     "iopub.status.busy": "2024-10-10T05:25:46.958344Z",
     "iopub.status.idle": "2024-10-10T05:25:52.231738Z",
     "shell.execute_reply": "2024-10-10T05:25:52.230756Z",
     "shell.execute_reply.started": "2024-10-10T05:25:46.959205Z"
    },
    "papermill": {
     "duration": null,
     "end_time": null,
     "exception": null,
     "start_time": null,
     "status": "pending"
    },
    "tags": []
   },
   "outputs": [],
   "source": [
    "shutil.make_archive('sentence_transformer_model', 'zip', 'sentence_transformer_model')"
   ]
  },
  {
   "cell_type": "code",
   "execution_count": null,
   "id": "8f97defa",
   "metadata": {
    "papermill": {
     "duration": null,
     "end_time": null,
     "exception": null,
     "start_time": null,
     "status": "pending"
    },
    "tags": []
   },
   "outputs": [],
   "source": []
  }
 ],
 "metadata": {
  "kaggle": {
   "accelerator": "gpu",
   "dataSources": [
    {
     "datasetId": 3020336,
     "sourceId": 5239462,
     "sourceType": "datasetVersion"
    }
   ],
   "dockerImageVersionId": 30787,
   "isGpuEnabled": true,
   "isInternetEnabled": true,
   "language": "python",
   "sourceType": "notebook"
  },
  "kernelspec": {
   "display_name": "Python 3",
   "language": "python",
   "name": "python3"
  },
  "language_info": {
   "codemirror_mode": {
    "name": "ipython",
    "version": 3
   },
   "file_extension": ".py",
   "mimetype": "text/x-python",
   "name": "python",
   "nbconvert_exporter": "python",
   "pygments_lexer": "ipython3",
   "version": "3.10.14"
  },
  "papermill": {
   "default_parameters": {},
   "duration": 99.756061,
   "end_time": "2024-10-11T12:37:09.037415",
   "environment_variables": {},
   "exception": true,
   "input_path": "__notebook__.ipynb",
   "output_path": "__notebook__.ipynb",
   "parameters": {},
   "start_time": "2024-10-11T12:35:29.281354",
   "version": "2.6.0"
  }
 },
 "nbformat": 4,
 "nbformat_minor": 5
}
